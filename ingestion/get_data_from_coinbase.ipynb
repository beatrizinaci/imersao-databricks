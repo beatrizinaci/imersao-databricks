{
 "cells": [
  {
   "cell_type": "code",
   "execution_count": 0,
   "metadata": {
    "application/vnd.databricks.v1+cell": {
     "cellMetadata": {
      "byteLimit": 2048000,
      "rowLimit": 10000
     },
     "inputWidgets": {},
     "nuid": "01a185ad-07ff-4f1f-8187-eb7044e8b61b",
     "showTitle": false,
     "tableResultSettingsMap": {},
     "title": ""
    }
   },
   "outputs": [],
   "source": [
    "import requests\n",
    "import pandas as pd\n",
    "from datetime import datetime, UTC  # ou timezone.utc se versão <3.11\n",
    "from pyspark.sql import functions as F\n",
    "from pyspark.sql.types import StructType, StructField, StringType, DoubleType, TimestampType\n",
    "\n",
    "RAW_BASE_PATH = \"/Volumes/lakehouse/raw/coinbase/coinbase/bitcoin_spot\"\n",
    "\n",
    "def get_bitcoin_df() -> pd.DataFrame:\n",
    "    url = \"https://api.coinbase.com/v2/prices/spot?currency=USD\"\n",
    "    response = requests.get(url, timeout=15)\n",
    "    response.raise_for_status()\n",
    "    data = response.json()\n",
    "\n",
    "    preco = float(data[\"data\"][\"amount\"])\n",
    "    ativo = data[\"data\"][\"base\"]\n",
    "    moeda = data[\"data\"][\"currency\"]\n",
    "    horario_coleta = datetime.now(UTC)   # horário UTC correto\n",
    "\n",
    "    return pd.DataFrame([{\n",
    "        \"ativo\": ativo,\n",
    "        \"preco\": preco,\n",
    "        \"moeda\": moeda,\n",
    "        \"horario_coleta\": horario_coleta,\n",
    "    }])\n",
    "\n",
    "# Coleta\n",
    "pdf = get_bitcoin_df()\n",
    "\n",
    "# Schema explícito (opcional, deixa claro os tipos)\n",
    "schema = StructType([\n",
    "    StructField(\"ativo\", StringType(), False),\n",
    "    StructField(\"preco\", DoubleType(), False),\n",
    "    StructField(\"moeda\", StringType(), False),\n",
    "    StructField(\"horario_coleta\", TimestampType(), False),\n",
    "])\n",
    "\n",
    "df = (\n",
    "    spark.createDataFrame(pdf, schema=schema)\n",
    "        .withColumn(\"ingestion_ts_utc\", F.current_timestamp())\n",
    "        .withColumn(\"source_system\", F.lit(\"coinbase\"))\n",
    "        .withColumn(\"source_endpoint\", F.lit(\"https://api.coinbase.com/v2/prices/spot?currency=USD\"))\n",
    "        .withColumn(\"ingestion_date\", F.to_date(F.col(\"ingestion_ts_utc\")))\n",
    ")\n",
    "\n",
    "# Grava os arquivos JSON particionados por data de ingestão\n",
    "(\n",
    "    df.write\n",
    "      .mode(\"append\")\n",
    "      .partitionBy(\"ingestion_date\")\n",
    "      .json(RAW_BASE_PATH)\n",
    ")\n",
    "\n",
    "print(\"✅ JSON salvo em:\", RAW_BASE_PATH)"
   ]
  }
 ],
 "metadata": {
  "application/vnd.databricks.v1+notebook": {
   "computePreferences": null,
   "dashboards": [],
   "environmentMetadata": {
    "base_environment": "",
    "environment_version": "4"
   },
   "inputWidgetPreferences": null,
   "language": "python",
   "notebookMetadata": {
    "pythonIndentUnit": 4
   },
   "notebookName": "get_data_from_coinbase",
   "widgets": {}
  },
  "language_info": {
   "name": "python"
  }
 },
 "nbformat": 4,
 "nbformat_minor": 0
}
