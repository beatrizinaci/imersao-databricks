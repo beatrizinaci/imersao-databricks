{
 "cells": [
  {
   "cell_type": "code",
   "execution_count": 0,
   "metadata": {
    "application/vnd.databricks.v1+cell": {
     "cellMetadata": {
      "byteLimit": 2048000,
      "implicitDf": true,
      "rowLimit": 10000
     },
     "inputWidgets": {},
     "nuid": "22a406dc-ee0f-4eda-89ed-6d06bd4e1cf5",
     "showTitle": false,
     "tableResultSettingsMap": {},
     "title": ""
    }
   },
   "outputs": [],
   "source": [
    "%sql\n",
    "-- 1 Cria o catálogo principal (onde toda a plataforma de dados será organizada)\n",
    "CREATE CATALOG IF NOT EXISTS lakehouse\n",
    "COMMENT \"Catálogo principal do projeto, com camadas de dados governadas via Unity Catalog\";\n",
    "\n",
    "-- 2 Cria as quatro camadas da arquitetura de dados\n",
    "CREATE SCHEMA IF NOT EXISTS lakehouse.raw\n",
    "COMMENT \"Camada RAW - dados brutos, como chegam das fontes (SQL, API, planilhas)\";\n",
    "CREATE VOLUME IF NOT EXISTS lakehouse.raw.coinbase;\n",
    "CREATE VOLUME IF NOT EXISTS lakehouse.raw.yfinance;\n",
    "\n",
    "CREATE SCHEMA IF NOT EXISTS lakehouse.bronze\n",
    "COMMENT \"Camada BRONZE - dados padronizados, com metadados e controle de ingestão\";\n",
    "\n",
    "CREATE SCHEMA IF NOT EXISTS lakehouse.silver\n",
    "COMMENT \"Camada SILVER - dados tratados, com regras de negócio aplicadas\";\n",
    "\n",
    "CREATE SCHEMA IF NOT EXISTS lakehouse.gold\n",
    "COMMENT \"Camada GOLD - dados analíticos e métricas finais para BI e IA\";\n",
    "\n",
    "-- 3 (opcional) Verifica se tudo foi criado corretamente\n",
    "SHOW SCHEMAS IN lakehouse;"
   ]
  },
  {
   "cell_type": "code",
   "execution_count": 0,
   "metadata": {
    "application/vnd.databricks.v1+cell": {
     "cellMetadata": {
      "byteLimit": 2048000,
      "implicitDf": true,
      "rowLimit": 10000
     },
     "inputWidgets": {},
     "nuid": "132a973f-c963-4a2f-b5c3-4a35ba53e80c",
     "showTitle": false,
     "tableResultSettingsMap": {},
     "title": ""
    }
   },
   "outputs": [],
   "source": [
    "%sql\n",
    "-- 2) Permissões (um GRANT por principal)\n",
    "\n",
    "-- Catálogo\n",
    "GRANT USE CATALOG ON CATALOG lakehouse TO data_engineers;\n",
    "GRANT USE CATALOG ON CATALOG lakehouse TO data_analysts;\n",
    "GRANT USE CATALOG ON CATALOG lakehouse TO data_scientists;\n",
    "GRANT USE CATALOG ON CATALOG lakehouse TO business_users;\n",
    "\n",
    "-- RAW (restrito a engenheiros)\n",
    "GRANT USE SCHEMA ON SCHEMA lakehouse.raw TO data_engineers;\n",
    "GRANT SELECT ON SCHEMA lakehouse.raw TO data_engineers;\n",
    "\n",
    "-- BRONZE (eng: criar/modificar; analistas: leitura)\n",
    "GRANT USE SCHEMA ON SCHEMA lakehouse.bronze TO data_engineers;\n",
    "GRANT USE SCHEMA ON SCHEMA lakehouse.bronze TO data_analysts;\n",
    "-- GRANT SELECT ON ALL TABLES IN SCHEMA lakehouse.bronze TO data_analysts;\n",
    "\n",
    "-- SILVER (leitura p/ times técnicos)\n",
    "GRANT USE SCHEMA ON SCHEMA lakehouse.silver TO data_engineers;\n",
    "GRANT USE SCHEMA ON SCHEMA lakehouse.silver TO data_analysts;\n",
    "GRANT USE SCHEMA ON SCHEMA lakehouse.silver TO data_scientists;\n",
    "-- GRANT SELECT ON ALL TABLES IN SCHEMA lakehouse.silver TO data_engineers;\n",
    "-- GRANT SELECT ON ALL TABLES IN SCHEMA lakehouse.silver TO data_analysts;\n",
    "-- GRANT SELECT ON ALL TABLES IN SCHEMA lakehouse.silver TO data_scientists;\n",
    "\n",
    "-- GOLD (leitura ampla, incluindo negócio)\n",
    "GRANT USE SCHEMA ON SCHEMA lakehouse.gold TO data_engineers;\n",
    "GRANT USE SCHEMA ON SCHEMA lakehouse.gold TO data_analysts;\n",
    "GRANT USE SCHEMA ON SCHEMA lakehouse.gold TO data_scientists;\n",
    "GRANT USE SCHEMA ON SCHEMA lakehouse.gold TO business_users;\n",
    "-- GRANT SELECT ON ALL TABLES IN SCHEMA lakehouse.gold TO data_engineers;\n",
    "-- GRANT SELECT ON ALL TABLES IN SCHEMA lakehouse.gold TO data_analysts;\n",
    "-- GRANT SELECT ON ALL TABLES IN SCHEMA lakehouse.gold TO data_scientists;\n",
    "-- GRANT SELECT ON ALL TABLES IN SCHEMA lakehouse.gold TO business_users;"
   ]
  },
  {
   "cell_type": "code",
   "execution_count": 0,
   "metadata": {
    "application/vnd.databricks.v1+cell": {
     "cellMetadata": {
      "byteLimit": 2048000,
      "implicitDf": true,
      "rowLimit": 10000
     },
     "inputWidgets": {},
     "nuid": "ee56fe8e-0ce1-4fd4-b5c0-12b95cd96c19",
     "showTitle": false,
     "tableResultSettingsMap": {},
     "title": ""
    }
   },
   "outputs": [],
   "source": [
    "%sql\n",
    "\n",
    "-- Permissões no CATÁLOGO\n",
    "GRANT USE CATALOG ON CATALOG lakehouse TO `account users`;\n",
    "GRANT USE SCHEMA ON CATALOG lakehouse TO `account users`;\n",
    "GRANT CREATE SCHEMA ON CATALOG lakehouse TO `account users`;\n",
    "\n",
    "-- Permissões no SCHEMA\n",
    "GRANT USE SCHEMA ON SCHEMA lakehouse.raw TO `account users`;\n",
    "GRANT CREATE TABLE ON SCHEMA lakehouse.raw TO `account users`;\n",
    "GRANT SELECT ON SCHEMA lakehouse.raw TO `account users`;\n",
    "GRANT MODIFY ON SCHEMA lakehouse.raw TO `account users`;\n",
    "\n",
    "-- Permissões no VOLUME (importante pro seu caso!)\n",
    "GRANT READ VOLUME ON VOLUME lakehouse.raw.coinbase TO `account users`;\n",
    "GRANT WRITE VOLUME ON VOLUME lakehouse.raw.coinbase TO `account users`;"
   ]
  },
  {
   "cell_type": "code",
   "execution_count": 0,
   "metadata": {
    "application/vnd.databricks.v1+cell": {
     "cellMetadata": {
      "byteLimit": 2048000,
      "implicitDf": true,
      "rowLimit": 10000
     },
     "inputWidgets": {},
     "nuid": "e6b4134d-2b9b-4332-815f-1debb4c76351",
     "showTitle": false,
     "tableResultSettingsMap": {},
     "title": ""
    }
   },
   "outputs": [],
   "source": [
    "%sql\n",
    "-- Grant USE CATALOG privilege\n",
    "GRANT USE CATALOG ON CATALOG lakehouse TO `data_engineers`;\n",
    "\n",
    "-- Grant USE SCHEMA privilege\n",
    "GRANT USE SCHEMA ON SCHEMA lakehouse.raw TO `data_engineers`;\n",
    "\n",
    "-- (Optional) Grant CREATE TABLE privilege if the user/group needs to create tables\n",
    "GRANT CREATE TABLE ON SCHEMA lakehouse.raw TO `data_engineers`;"
   ]
  },
  {
   "cell_type": "code",
   "execution_count": 0,
   "metadata": {
    "application/vnd.databricks.v1+cell": {
     "cellMetadata": {},
     "inputWidgets": {},
     "nuid": "8140b302-bc35-44b8-a1ef-f085c6173e07",
     "showTitle": false,
     "tableResultSettingsMap": {},
     "title": ""
    }
   },
   "outputs": [],
   "source": []
  }
 ],
 "metadata": {
  "application/vnd.databricks.v1+notebook": {
   "computePreferences": null,
   "dashboards": [],
   "environmentMetadata": {
    "base_environment": "",
    "environment_version": "4"
   },
   "inputWidgetPreferences": null,
   "language": "python",
   "notebookMetadata": {
    "mostRecentlyExecutedCommandWithImplicitDF": {
     "commandId": 4575692304118688,
     "dataframes": [
      "_sqldf"
     ]
    },
    "pythonIndentUnit": 4
   },
   "notebookName": "setup",
   "widgets": {}
  },
  "language_info": {
   "name": "python"
  }
 },
 "nbformat": 4,
 "nbformat_minor": 0
}
